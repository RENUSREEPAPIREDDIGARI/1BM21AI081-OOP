{
  "nbformat": 4,
  "nbformat_minor": 0,
  "metadata": {
    "colab": {
      "provenance": []
    },
    "kernelspec": {
      "name": "python3",
      "display_name": "Python 3"
    },
    "language_info": {
      "name": "python"
    }
  },
  "cells": [
    {
      "cell_type": "markdown",
      "source": [
        "1"
      ],
      "metadata": {
        "id": "3Ji57ed4cRJ7"
      }
    },
    {
      "cell_type": "code",
      "execution_count": 1,
      "metadata": {
        "colab": {
          "base_uri": "https://localhost:8080/"
        },
        "id": "rEZxsDBDbbsd",
        "outputId": "30221661-a8b9-4d04-84f7-b2b8706c1734"
      },
      "outputs": [
        {
          "output_type": "stream",
          "name": "stdout",
          "text": [
            "Is student_instance an instance of Student? True\n",
            "Is marks_instance an instance of Marks? True\n",
            "Is Student a subclass of object? True\n",
            "Is Marks a subclass of object? True\n"
          ]
        }
      ],
      "source": [
        "class Student:\n",
        "    pass\n",
        "\n",
        "class Marks:\n",
        "    pass\n",
        "\n",
        "# Creating instances\n",
        "student_instance = Student()\n",
        "marks_instance = Marks()\n",
        "\n",
        "# Checking if instances belong to the classes\n",
        "is_student_instance = isinstance(student_instance, Student)\n",
        "is_marks_instance = isinstance(marks_instance, Marks)\n",
        "\n",
        "# Checking if the classes are subclasses of the built-in object class\n",
        "is_student_subclass = issubclass(Student, object)\n",
        "is_marks_subclass = issubclass(Marks, object)\n",
        "\n",
        "# Printing the results\n",
        "print(f\"Is student_instance an instance of Student? {is_student_instance}\")\n",
        "print(f\"Is marks_instance an instance of Marks? {is_marks_instance}\")\n",
        "\n",
        "print(f\"Is Student a subclass of object? {is_student_subclass}\")\n",
        "print(f\"Is Marks a subclass of object? {is_marks_subclass}\")\n"
      ]
    },
    {
      "cell_type": "code",
      "source": [
        "class COMPLEX:\n",
        "    # Class variables\n",
        "    real_part = 0\n",
        "    img_part = 0\n",
        "\n",
        "    # Constructor to initialize the complex numbers\n",
        "    def __init__(self, real, img):\n",
        "        self.real_part = real\n",
        "        self.img_part = img\n",
        "\n",
        "# Create three objects C1, C2, and C3\n",
        "C1 = COMPLEX(3, 4)  # Complex number 3 + 4j\n",
        "C2 = COMPLEX(2, -1)  # Complex number 2 - 1j\n",
        "C3 = COMPLEX(0, 0)  # Initialize C3 to store the result\n",
        "\n",
        "# Perform addition of C1 and C2\n",
        "C3.real_part = C1.real_part + C2.real_part\n",
        "C3.img_part = C1.img_part + C2.img_part\n",
        "\n",
        "# Display the result\n",
        "print(f\"Result of adding C1 and C2: {C3.real_part} + {C3.img_part}j\")\n"
      ],
      "metadata": {
        "colab": {
          "base_uri": "https://localhost:8080/"
        },
        "id": "kt-SvQtWbf4B",
        "outputId": "ed095f0d-331e-472e-c9ac-9d2263267487"
      },
      "execution_count": 2,
      "outputs": [
        {
          "output_type": "stream",
          "name": "stdout",
          "text": [
            "Result of adding C1 and C2: 5 + 3j\n"
          ]
        }
      ]
    },
    {
      "cell_type": "markdown",
      "source": [
        "2"
      ],
      "metadata": {
        "id": "r7dGQSAYcVul"
      }
    },
    {
      "cell_type": "code",
      "source": [
        "class Song:\n",
        "    def __init__(self, lyrics):\n",
        "        self.lyrics = lyrics\n",
        "\n",
        "    def sing_me_a_song(self):\n",
        "        for line in self.lyrics:\n",
        "            print(line)\n",
        "\n",
        "# Define the lyrics for the song\n",
        "happy_bday_lyrics = [\n",
        "    \"May god bless you,\",\n",
        "    \"Have a sunshine on you,\",\n",
        "    \"Happy Birthday to you (1)\"\n",
        "]\n",
        "\n",
        "# Create an instance of the Song class\n",
        "happy_bday = Song(happy_bday_lyrics)\n",
        "\n",
        "# Call the sing_me_a_song method on the happy_bday instance\n",
        "happy_bday.sing_me_a_song()\n"
      ],
      "metadata": {
        "colab": {
          "base_uri": "https://localhost:8080/"
        },
        "id": "HPAtNUXCcHEl",
        "outputId": "5d5926e8-e990-4271-f512-c1a2f3432a21"
      },
      "execution_count": 3,
      "outputs": [
        {
          "output_type": "stream",
          "name": "stdout",
          "text": [
            "May god bless you,\n",
            "Have a sunshine on you,\n",
            "Happy Birthday to you (1)\n"
          ]
        }
      ]
    },
    {
      "cell_type": "code",
      "source": [
        "class dog:\n",
        "    def __init__(self,name,size,breed,dob):\n",
        "        self.name=name\n",
        "        self.size=size\n",
        "        self.breed=breed\n",
        "        self.dob=dob\n",
        "    def bark(self):\n",
        "        print('woof')\n",
        "    def get_name(self):\n",
        "        print(self.name)\n",
        "    def set_name(self,new_name):\n",
        "        if isinstance(new_name,str)and 2<= len(new_name)<=30 and new_name.isalpha():\n",
        "           self.name=new_name.title()\n",
        "        else:\n",
        "            print(\"invaild name please enter again\")\n",
        "    def dog_years(self):\n",
        "        birth_year = int(self.dob[-4:])\n",
        "        current_year=2023\n",
        "        human_years=current_year-birth_year\n",
        "        dog_years=human_years*7\n",
        "        return dog_years\n",
        "my_dog = dog(\"Buddy\", \"Medium\", \"Golden Retriever\", \"15/05/2019\")\n",
        "my_dog.set_name(\"poppy\")\n",
        "my_dog.get_name()\n",
        "my_dog.bark()\n",
        "print(my_dog.dog_years())"
      ],
      "metadata": {
        "colab": {
          "base_uri": "https://localhost:8080/"
        },
        "id": "M_ktn8aKcov-",
        "outputId": "76184c09-e1db-4520-fca0-2d50d2f397e1"
      },
      "execution_count": 1,
      "outputs": [
        {
          "output_type": "stream",
          "name": "stdout",
          "text": [
            "Poppy\n",
            "woof\n",
            "28\n"
          ]
        }
      ]
    },
    {
      "cell_type": "markdown",
      "source": [
        "3"
      ],
      "metadata": {
        "id": "tpRs79YRwDxF"
      }
    },
    {
      "cell_type": "code",
      "source": [
        "class Employee:\n",
        "    def __init__(self, name, salary):\n",
        "        self._name = name\n",
        "        self.__salary = salary\n",
        "    def work(self):\n",
        "        return f\"{self._name} is working.\"\n",
        "\n",
        "    def show(self):\n",
        "        return f\"Name: {self._name}, Salary: {self.__salary}\"\n",
        "    def get_salary(self):\n",
        "        return self.__salary\n",
        "\n",
        "    def set_salary(self, new_salary):\n",
        "        self.__salary = new_salary\n",
        "\n",
        "emp = Employee(\"renz\", 50000)\n",
        "\n",
        "print(emp.work())\n",
        "print(emp.show())\n",
        "\n",
        "print(emp.get_salary())\n",
        "\n"
      ],
      "metadata": {
        "colab": {
          "base_uri": "https://localhost:8080/"
        },
        "id": "KmRIMSx2w1-i",
        "outputId": "62d58a1d-9775-4b0a-d2db-9c3ff1758757"
      },
      "execution_count": 7,
      "outputs": [
        {
          "output_type": "stream",
          "name": "stdout",
          "text": [
            "renz is working.\n",
            "Name: renz, Salary: 50000\n",
            "50000\n"
          ]
        }
      ]
    },
    {
      "cell_type": "code",
      "source": [
        "class creditcard:\n",
        "    def __init__(self,balance,limit):\n",
        "        self.balance=balance\n",
        "        self.__limit=limit\n",
        "\n",
        "    def get_balance(self):\n",
        "        print(self.balance)\n",
        "\n",
        "    def withdraw(self,a):\n",
        "        if(self.balance-a < self.__limit):\n",
        "            print(\"no sufficient balance\")\n",
        "        else:\n",
        "            self.balance=self.balance-a\n",
        "\n",
        "    def deposit(self,a):\n",
        "        self.balance=self.balance+a\n",
        "\n",
        "    def display(self):\n",
        "        print(self.__limit)\n",
        "\n",
        "c1=creditcard(1000,100)\n",
        "\n",
        "c1.withdraw(1000)\n",
        "c1.get_balance()\n",
        "\n",
        "c1.display()"
      ],
      "metadata": {
        "colab": {
          "base_uri": "https://localhost:8080/"
        },
        "id": "HQBKzoqAxM43",
        "outputId": "e77cd6e0-bea7-4594-d753-d90c7a28f1d1"
      },
      "execution_count": 8,
      "outputs": [
        {
          "output_type": "stream",
          "name": "stdout",
          "text": [
            "no sufficient balance\n",
            "1000\n",
            "100\n"
          ]
        }
      ]
    },
    {
      "cell_type": "markdown",
      "source": [
        "4"
      ],
      "metadata": {
        "id": "asomN8QvCZwI"
      }
    },
    {
      "cell_type": "code",
      "source": [
        "from abc import ABC,abstractmethod\n",
        "class car(ABC):\n",
        "    def __init__(self,mg):\n",
        "        self.mg=mg\n",
        "    @abstractmethod\n",
        "    def mileage(self):\n",
        "        pass\n",
        "\n",
        "class audi(car):\n",
        "    def mileage(self):\n",
        "        print(\"mileage of audi\",self.mg)\n",
        "c1=audi(40)\n",
        "c1.mileage()\n",
        "\n",
        "class BMW(car):\n",
        "    def mileage(self):\n",
        "        print(\"mileage of audi\",self.mg)\n",
        "c1=BMW(60)\n",
        "c1.mileage()"
      ],
      "metadata": {
        "colab": {
          "base_uri": "https://localhost:8080/"
        },
        "id": "sMf5Gv_vzH5U",
        "outputId": "862eafdb-5c8c-4fc8-c2d4-9b1059cff464"
      },
      "execution_count": 9,
      "outputs": [
        {
          "output_type": "stream",
          "name": "stdout",
          "text": [
            "mileage of audi 40\n",
            "mileage of audi 60\n"
          ]
        }
      ]
    },
    {
      "cell_type": "markdown",
      "source": [
        "others"
      ],
      "metadata": {
        "id": "qtOo12qrEtQJ"
      }
    },
    {
      "cell_type": "code",
      "source": [
        "class Book:\n",
        "    def __init__(self, title, author, genre, publication_year):\n",
        "        self.title = title\n",
        "        self.author = author\n",
        "        self.genre = genre\n",
        "        self.publication_year = publication_year\n",
        "\n",
        "    def display_info(self):\n",
        "        print(f\"Title: {self.title}\")\n",
        "        print(f\"Author: {self.author}\")\n",
        "        print(f\"Genre: {self.genre}\")\n",
        "        print(f\"Publication Year: {self.publication_year}\")\n",
        "        print()\n",
        "\n",
        "# Instantiate multiple objects of the Book class\n",
        "book1 = Book(\"The Great Gatsby\", \"F. Scott Fitzgerald\", \"Classic\", 1925)\n",
        "book2 = Book(\"To Kill a Mockingbird\", \"Harper Lee\", \"Fiction\", 1960)\n",
        "book3 = Book(\"1984\", \"George Orwell\", \"Dystopian\", 1949)\n",
        "book4 = Book(\"The Hobbit\", \"J.R.R. Tolkien\", \"Fantasy\", 1937)\n",
        "\n",
        "# Display information about each book\n",
        "book1.display_info()\n",
        "book2.display_info()\n",
        "book3.display_info()\n",
        "book4.display_info()\n"
      ],
      "metadata": {
        "colab": {
          "base_uri": "https://localhost:8080/"
        },
        "id": "fgOO_Np_CbFW",
        "outputId": "df2dcaf4-306d-4f0c-d8a4-963550772c61"
      },
      "execution_count": 10,
      "outputs": [
        {
          "output_type": "stream",
          "name": "stdout",
          "text": [
            "Title: The Great Gatsby\n",
            "Author: F. Scott Fitzgerald\n",
            "Genre: Classic\n",
            "Publication Year: 1925\n",
            "\n",
            "Title: To Kill a Mockingbird\n",
            "Author: Harper Lee\n",
            "Genre: Fiction\n",
            "Publication Year: 1960\n",
            "\n",
            "Title: 1984\n",
            "Author: George Orwell\n",
            "Genre: Dystopian\n",
            "Publication Year: 1949\n",
            "\n",
            "Title: The Hobbit\n",
            "Author: J.R.R. Tolkien\n",
            "Genre: Fantasy\n",
            "Publication Year: 1937\n",
            "\n"
          ]
        }
      ]
    },
    {
      "cell_type": "markdown",
      "source": [
        "5"
      ],
      "metadata": {
        "id": "A9AFKMPeaebI"
      }
    },
    {
      "cell_type": "code",
      "source": [
        "class Vehicle:\n",
        "    def __init__(self, make, model):\n",
        "        self.make = make\n",
        "        self.model = model\n",
        "\n",
        "    def display_vehicle(self):\n",
        "        print(f\"Vehicle: {self.make} {self.model}\")\n",
        "\n",
        "\n",
        "class Car(Vehicle):\n",
        "    def __init__(self, make, model, num_doors):\n",
        "        # Call the constructor of the parent class (Vehicle)\n",
        "        super().__init__(make, model)\n",
        "        self.num_doors = num_doors\n",
        "\n",
        "    def display_car(self):\n",
        "        print(f\"Number of doors: {self.num_doors}\")\n",
        "        self.display_vehicle()\n",
        "\n",
        "\n",
        "class SportsCar(Car):\n",
        "    def __init__(self, make, model, num_doors, top_speed):\n",
        "        # Call the constructor of the immediate parent class (Car)\n",
        "        super().__init__(make, model, num_doors)\n",
        "        self.top_speed = top_speed\n",
        "\n",
        "    def display_sports_car(self):\n",
        "        print(f\"Top Speed: {self.top_speed} mph\")\n",
        "        self.display_car()\n",
        "\n",
        "\n",
        "# Example usage\n",
        "sports_car1 = SportsCar(\"Ferrari\", \"488 GTB\", 2, 205)\n",
        "sports_car1.display_sports_car()\n"
      ],
      "metadata": {
        "colab": {
          "base_uri": "https://localhost:8080/"
        },
        "id": "YtW_q1Uxbh1p",
        "outputId": "cebcc400-bacd-41f9-c193-4560428e6a95"
      },
      "execution_count": 5,
      "outputs": [
        {
          "output_type": "stream",
          "name": "stdout",
          "text": [
            "Top Speed: 205 mph\n",
            "Number of doors: 2\n",
            "Vehicle: Ferrari 488 GTB\n"
          ]
        }
      ]
    },
    {
      "cell_type": "code",
      "source": [
        "class Person:\n",
        "    def __init__(self, name, age):\n",
        "        self.name = name\n",
        "        self.age = age\n",
        "\n",
        "    def display_person(self):\n",
        "        print(f\"Person: {self.name}, Age: {self.age}\")\n",
        "\n",
        "\n",
        "class Company:\n",
        "    def __init__(self, company_name, location):\n",
        "        self.company_name = company_name\n",
        "        self.location = location\n",
        "\n",
        "    def display_company(self):\n",
        "        print(f\"Company: {self.company_name}, Location: {self.location}\")\n",
        "\n",
        "\n",
        "class Employee(Person, Company):\n",
        "    def __init__(self, name, age, company_name, location, employee_id):\n",
        "        # Call the constructors of both parent classes\n",
        "        super().__init__(name, age)\n",
        "        super(Person, self).__init__(name, age)  # Another way to call the parent class constructor\n",
        "        Company.__init__(self, company_name, location)\n",
        "        self.employee_id = employee_id\n",
        "\n",
        "    def display_employee(self):\n",
        "        print(f\"Employee ID: {self.employee_id}\")\n",
        "        self.display_person()\n",
        "        self.display_company()\n",
        "\n",
        "\n",
        "# Example usage\n",
        "employee1 = Employee(\"John Doe\", 25, \"ABC Inc.\", \"City A\", \"E12345\")\n",
        "employee1.display_employee()\n"
      ],
      "metadata": {
        "colab": {
          "base_uri": "https://localhost:8080/"
        },
        "id": "AyCGhcsScCQL",
        "outputId": "7537b0d4-abbe-4b2f-8720-7db71eac52dd"
      },
      "execution_count": 7,
      "outputs": [
        {
          "output_type": "stream",
          "name": "stdout",
          "text": [
            "Employee ID: E12345\n",
            "Person: John Doe, Age: 25\n",
            "Company: ABC Inc., Location: City A\n"
          ]
        }
      ]
    },
    {
      "cell_type": "code",
      "source": [],
      "metadata": {
        "id": "u1xqsdcicMhY"
      },
      "execution_count": null,
      "outputs": []
    }
  ]
}