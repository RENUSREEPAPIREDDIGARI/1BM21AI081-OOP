{
  "cells": [
    {
      "cell_type": "code",
      "execution_count": null,
      "metadata": {
        "colab": {
          "base_uri": "https://localhost:8080/"
        },
        "id": "os8ANVUstkCI",
        "outputId": "17b81c42-d51c-4dc6-9112-84a60c5e3506"
      },
      "outputs": [
        {
          "name": "stdout",
          "output_type": "stream",
          "text": [
            "Father's age cannot be negative\n",
            "Son's age should be less than Father's age\n"
          ]
        }
      ],
      "source": [
        "class WrongAge(Exception):\n",
        "    def __init__(self, message=\"Age should be greater than or equal to 0\"):\n",
        "        self.message = message\n",
        "        super().__init__(self.message)\n",
        "\n",
        "class AgeInvalid(Exception):\n",
        "    def __init__(self, message=\"Son's age should be less than Father's age\"):\n",
        "        self.message = message\n",
        "        super().__init__(self.message)\n",
        "\n",
        "class Father:\n",
        "    def __init__(self, age):\n",
        "        if age < 0:\n",
        "            raise WrongAge(\"Father's age cannot be negative\")\n",
        "        self.age = age\n",
        "\n",
        "class Son(Father):\n",
        "    def __init__(self, father_age, son_age):\n",
        "        super().__init__(father_age)\n",
        "\n",
        "        if son_age >= father_age:\n",
        "            raise AgeInvalid(\"Son's age should be less than Father's age\")\n",
        "\n",
        "        self.son_age = son_age\n",
        "\n",
        "# Example usage:\n",
        "try:\n",
        "    father = Father(-5)  # This will raise WrongAge exception\n",
        "except WrongAge as e:\n",
        "    print(e)\n",
        "\n",
        "try:\n",
        "    son = Son(40, 45)  # This will raise AgeInvalid exception\n",
        "except AgeInvalid as e:\n",
        "    print(e)\n"
      ]
    },
    {
      "cell_type": "code",
      "execution_count": null,
      "metadata": {
        "id": "ZU1QkcEdtk6-"
      },
      "outputs": [],
      "source": [
        "class FormulaError(Exception):\n",
        "    pass\n",
        "\n",
        "def calculate(expression):\n",
        "    try:\n",
        "        elements = expression.split()\n",
        "        if len(elements) != 3:\n",
        "            raise FormulaError(\"Invalid input. Please provide a valid expression with 3 elements.\")\n",
        "\n",
        "        num1 = float(elements[0])\n",
        "        operator = elements[1]\n",
        "        num2 = float(elements[2])\n",
        "\n",
        "        if operator not in ('+', '-'):\n",
        "            raise FormulaError(\"Invalid operator. Please use '+' or '-'.\")\n",
        "\n",
        "        if operator == '+':\n",
        "            result = num1 + num2\n",
        "        else:\n",
        "            result = num1 - num2\n",
        "\n",
        "        print(f\"Result: {result}\")\n",
        "\n",
        "    except ValueError:\n",
        "        raise FormulaError(\"Invalid number. Please provide valid numerical values.\")\n",
        "\n",
        "# Main loop\n",
        "while True:\n",
        "    try:\n",
        "        user_input = input(\"Enter a formula (or 'quit' to exit): \")\n",
        "        if user_input.lower() == 'quit':\n",
        "            break\n",
        "\n",
        "        calculate(user_input)\n",
        "\n",
        "    except FormulaError as e:\n",
        "        print(f\"Error: {e}\")\n"
      ]
    },
    {
      "cell_type": "code",
      "execution_count": null,
      "metadata": {
        "colab": {
          "base_uri": "https://localhost:8080/"
        },
        "id": "EEh4bFoMBWoi",
        "outputId": "57574960-73fe-4571-b0cf-b0ecb75f6b93"
      },
      "outputs": [
        {
          "output_type": "stream",
          "name": "stdout",
          "text": [
            "Cube of 33: 35937\n",
            "Cube of 47: 103823\n",
            "Square of 82: 6724\n",
            "Square of 66: 4356\n",
            "Cube of 23: 12167\n",
            "Square of 46: 2116\n",
            "Square of 50: 2500\n",
            "Square of 74: 5476\n",
            "Square of 48: 2304\n",
            "Square of 32: 1024\n",
            "Program terminated by user.\n"
          ]
        }
      ],
      "source": [
        "import threading\n",
        "import random\n",
        "import time\n",
        "\n",
        "# Shared variable to store the random integer\n",
        "shared_value = None\n",
        "\n",
        "# Lock to synchronize access to the shared variable\n",
        "lock = threading.Lock()\n",
        "\n",
        "# Function for the first thread to generate a random integer every 1 second\n",
        "def generate_random():\n",
        "    global shared_value\n",
        "    while True:\n",
        "        with lock:\n",
        "            shared_value = random.randint(1, 100)\n",
        "        time.sleep(1)\n",
        "\n",
        "# Function for the second thread to compute the square of the number (if even)\n",
        "def compute_square():\n",
        "    global shared_value\n",
        "    while True:\n",
        "        with lock:\n",
        "            if shared_value is not None and shared_value % 2 == 0:\n",
        "                square = shared_value ** 2\n",
        "                print(f\"Square of {shared_value}: {square}\")\n",
        "        time.sleep(1)\n",
        "\n",
        "# Function for the third thread to print the cube of the number (if odd)\n",
        "def print_cube():\n",
        "    global shared_value\n",
        "    while True:\n",
        "        with lock:\n",
        "            if shared_value is not None and shared_value % 2 != 0:\n",
        "                cube = shared_value ** 3\n",
        "                print(f\"Cube of {shared_value}: {cube}\")\n",
        "        time.sleep(1)\n",
        "\n",
        "# Create and start the threads\n",
        "thread1 = threading.Thread(target=generate_random)\n",
        "thread2 = threading.Thread(target=compute_square)\n",
        "thread3 = threading.Thread(target=print_cube)\n",
        "\n",
        "thread1.start()\n",
        "thread2.start()\n",
        "thread3.start()\n",
        "\n",
        "# Keep the main thread alive\n",
        "try:\n",
        "    thread1.join()\n",
        "    thread2.join()\n",
        "    thread3.join()\n",
        "except KeyboardInterrupt:\n",
        "    print(\"Program terminated by user.\")\n"
      ]
    },
    {
      "cell_type": "code",
      "execution_count": null,
      "metadata": {
        "id": "POYxIY-4BYq3",
        "colab": {
          "base_uri": "https://localhost:8080/"
        },
        "outputId": "00715c5c-37d9-4046-fc80-a84040fcec18"
      },
      "outputs": [
        {
          "output_type": "stream",
          "name": "stdout",
          "text": [
            "Cube of 49: 117649\n",
            "Farmer added Tomatoes to the market.\n",
            "Square of 94: 8836\n",
            "Alice purchased Tomatoes.\n",
            "Farmer added Carrots to the market.\n",
            "Cube of 39: 59319\n",
            "Cube of 85: 614125\n",
            "Farmer added Tomatoes to the market.\n",
            "Bob purchased Carrots.\n",
            "Cube of 1: 1\n",
            "Farmer added Carrots to the market.\n",
            "Alice purchased Tomatoes.\n",
            "Square of 30: 900\n",
            "Farmer added Tomatoes to the market.\n",
            "Square of 72: 5184\n",
            "Bob purchased Carrots.\n",
            "Alice purchased Tomatoes.\n",
            "Farmer added Carrots to the market.\n",
            "Square of 64: 4096\n",
            "Alice is waiting for Tomatoes to be available.\n",
            "Alice purchased Carrots.\n",
            "Farmer added Tomatoes to the market.\n",
            "Square of 30: 900\n",
            "Farmer added Carrots to the market.\n",
            "Square of 36: 1296\n",
            "Bob purchased Tomatoes.\n",
            "Farmer added Tomatoes to the market.\n",
            "Program terminated by user.\n"
          ]
        }
      ],
      "source": [
        "import threading\n",
        "import queue\n",
        "import time\n",
        "import random\n",
        "\n",
        "class VegetableMarket:\n",
        "    def __init__(self, capacity):\n",
        "        self.capacity = capacity\n",
        "        self.market_queue = queue.Queue(maxsize=capacity)\n",
        "\n",
        "    def add_vegetable(self, vegetable_type):\n",
        "        if self.market_queue.full():\n",
        "            print(f\"Market is full. Farmer is waiting to add {vegetable_type}.\")\n",
        "\n",
        "        self.market_queue.put(vegetable_type)\n",
        "        print(f\"Farmer added {vegetable_type} to the market.\")\n",
        "\n",
        "    def sell_vegetable(self, consumer_name, vegetable_type):\n",
        "        if self.market_queue.empty() or vegetable_type not in self.market_queue.queue:\n",
        "            print(f\"{consumer_name} is waiting for {vegetable_type} to be available.\")\n",
        "\n",
        "        vegetable = self.market_queue.get()\n",
        "        print(f\"{consumer_name} purchased {vegetable}.\")\n",
        "\n",
        "def farmer_thread(vegetable_market, vegetable_type):\n",
        "    while True:\n",
        "        time.sleep(random.uniform(1, 3))  # Simulating time to produce vegetables\n",
        "        vegetable_market.add_vegetable(vegetable_type)\n",
        "\n",
        "def consumer_thread(vegetable_market, consumer_name, vegetable_type):\n",
        "    while True:\n",
        "        time.sleep(random.uniform(1, 4))  # Simulating time for consumer to arrive\n",
        "        vegetable_market.sell_vegetable(consumer_name, vegetable_type)\n",
        "\n",
        "# Create Vegetable Market with capacity 5\n",
        "market = VegetableMarket(capacity=5)\n",
        "\n",
        "# Create farmer threads producing different vegetables\n",
        "farmer1 = threading.Thread(target=farmer_thread, args=(market, \"Tomatoes\"))\n",
        "farmer2 = threading.Thread(target=farmer_thread, args=(market, \"Carrots\"))\n",
        "\n",
        "# Create consumer threads wanting to buy vegetables\n",
        "consumer1 = threading.Thread(target=consumer_thread, args=(market, \"Alice\", \"Tomatoes\"))\n",
        "consumer2 = threading.Thread(target=consumer_thread, args=(market, \"Bob\", \"Carrots\"))\n",
        "\n",
        "# Start the threads\n",
        "farmer1.start()\n",
        "farmer2.start()\n",
        "consumer1.start()\n",
        "consumer2.start()\n",
        "\n",
        "# Keep the main thread alive\n",
        "try:\n",
        "    farmer1.join()\n",
        "    farmer2.join()\n",
        "    consumer1.join()\n",
        "    consumer2.join()\n",
        "except KeyboardInterrupt:\n",
        "    print(\"Program terminated by user.\")"
      ]
    },
    {
      "cell_type": "code",
      "source": [
        "import threading\n",
        "import time\n",
        "\n",
        "# Synchronization using an Event\n",
        "event = threading.Event()\n",
        "\n",
        "# Function for Thread A to print numbers\n",
        "def function_A():\n",
        "    for num in range(1, 6):\n",
        "        print(num, end=' ')\n",
        "        event.set()  # Set the event to notify Thread B\n",
        "        event.clear()  # Clear the event for the next iteration\n",
        "        time.sleep(0.5)  # Simulate a time-consuming task\n",
        "\n",
        "# Function for Thread B to print letters\n",
        "def function_B():\n",
        "    letters = ['A', 'B', 'C', 'D', 'E']\n",
        "    for letter in letters:\n",
        "        event.wait()  # Wait for the event from Thread A\n",
        "        print(letter, end=' ')\n",
        "        time.sleep(0.5)  # Simulate a time-consuming task\n",
        "\n",
        "# Create threads\n",
        "thread_A = threading.Thread(target=function_A)\n",
        "thread_B = threading.Thread(target=function_B)\n",
        "\n",
        "# Start both threads\n",
        "thread_A.start()\n",
        "thread_B.start()\n",
        "\n",
        "# Wait for both threads to complete\n",
        "thread_A.join()\n",
        "thread_B.join()\n",
        "\n",
        "# Print a newline to separate the output from the next prompt\n",
        "print()"
      ],
      "metadata": {
        "id": "aSudsbO6DTfv",
        "colab": {
          "base_uri": "https://localhost:8080/",
          "height": 408
        },
        "outputId": "a9a0dd03-1051-4bba-b3c2-01cd31f3f4b7"
      },
      "execution_count": null,
      "outputs": [
        {
          "metadata": {
            "tags": null
          },
          "name": "stdout",
          "output_type": "stream",
          "text": [
            "1 2 A 3 4 B 5 "
          ]
        },
        {
          "output_type": "error",
          "ename": "KeyboardInterrupt",
          "evalue": "",
          "traceback": [
            "\u001b[0;31m---------------------------------------------------------------------------\u001b[0m",
            "\u001b[0;31mKeyboardInterrupt\u001b[0m                         Traceback (most recent call last)",
            "\u001b[0;32m<ipython-input-2-8ab87561edc2>\u001b[0m in \u001b[0;36m<cell line: 33>\u001b[0;34m()\u001b[0m\n\u001b[1;32m     31\u001b[0m \u001b[0;31m# Wait for both threads to complete\u001b[0m\u001b[0;34m\u001b[0m\u001b[0;34m\u001b[0m\u001b[0m\n\u001b[1;32m     32\u001b[0m \u001b[0mthread_A\u001b[0m\u001b[0;34m.\u001b[0m\u001b[0mjoin\u001b[0m\u001b[0;34m(\u001b[0m\u001b[0;34m)\u001b[0m\u001b[0;34m\u001b[0m\u001b[0;34m\u001b[0m\u001b[0m\n\u001b[0;32m---> 33\u001b[0;31m \u001b[0mthread_B\u001b[0m\u001b[0;34m.\u001b[0m\u001b[0mjoin\u001b[0m\u001b[0;34m(\u001b[0m\u001b[0;34m)\u001b[0m\u001b[0;34m\u001b[0m\u001b[0;34m\u001b[0m\u001b[0m\n\u001b[0m\u001b[1;32m     34\u001b[0m \u001b[0;34m\u001b[0m\u001b[0m\n\u001b[1;32m     35\u001b[0m \u001b[0;31m# Print a newline to separate the output from the next prompt\u001b[0m\u001b[0;34m\u001b[0m\u001b[0;34m\u001b[0m\u001b[0m\n",
            "\u001b[0;32m/usr/lib/python3.10/threading.py\u001b[0m in \u001b[0;36mjoin\u001b[0;34m(self, timeout)\u001b[0m\n\u001b[1;32m   1094\u001b[0m \u001b[0;34m\u001b[0m\u001b[0m\n\u001b[1;32m   1095\u001b[0m         \u001b[0;32mif\u001b[0m \u001b[0mtimeout\u001b[0m \u001b[0;32mis\u001b[0m \u001b[0;32mNone\u001b[0m\u001b[0;34m:\u001b[0m\u001b[0;34m\u001b[0m\u001b[0;34m\u001b[0m\u001b[0m\n\u001b[0;32m-> 1096\u001b[0;31m             \u001b[0mself\u001b[0m\u001b[0;34m.\u001b[0m\u001b[0m_wait_for_tstate_lock\u001b[0m\u001b[0;34m(\u001b[0m\u001b[0;34m)\u001b[0m\u001b[0;34m\u001b[0m\u001b[0;34m\u001b[0m\u001b[0m\n\u001b[0m\u001b[1;32m   1097\u001b[0m         \u001b[0;32melse\u001b[0m\u001b[0;34m:\u001b[0m\u001b[0;34m\u001b[0m\u001b[0;34m\u001b[0m\u001b[0m\n\u001b[1;32m   1098\u001b[0m             \u001b[0;31m# the behavior of a negative timeout isn't documented, but\u001b[0m\u001b[0;34m\u001b[0m\u001b[0;34m\u001b[0m\u001b[0m\n",
            "\u001b[0;32m/usr/lib/python3.10/threading.py\u001b[0m in \u001b[0;36m_wait_for_tstate_lock\u001b[0;34m(self, block, timeout)\u001b[0m\n\u001b[1;32m   1114\u001b[0m \u001b[0;34m\u001b[0m\u001b[0m\n\u001b[1;32m   1115\u001b[0m         \u001b[0;32mtry\u001b[0m\u001b[0;34m:\u001b[0m\u001b[0;34m\u001b[0m\u001b[0;34m\u001b[0m\u001b[0m\n\u001b[0;32m-> 1116\u001b[0;31m             \u001b[0;32mif\u001b[0m \u001b[0mlock\u001b[0m\u001b[0;34m.\u001b[0m\u001b[0macquire\u001b[0m\u001b[0;34m(\u001b[0m\u001b[0mblock\u001b[0m\u001b[0;34m,\u001b[0m \u001b[0mtimeout\u001b[0m\u001b[0;34m)\u001b[0m\u001b[0;34m:\u001b[0m\u001b[0;34m\u001b[0m\u001b[0;34m\u001b[0m\u001b[0m\n\u001b[0m\u001b[1;32m   1117\u001b[0m                 \u001b[0mlock\u001b[0m\u001b[0;34m.\u001b[0m\u001b[0mrelease\u001b[0m\u001b[0;34m(\u001b[0m\u001b[0;34m)\u001b[0m\u001b[0;34m\u001b[0m\u001b[0;34m\u001b[0m\u001b[0m\n\u001b[1;32m   1118\u001b[0m                 \u001b[0mself\u001b[0m\u001b[0;34m.\u001b[0m\u001b[0m_stop\u001b[0m\u001b[0;34m(\u001b[0m\u001b[0;34m)\u001b[0m\u001b[0;34m\u001b[0m\u001b[0;34m\u001b[0m\u001b[0m\n",
            "\u001b[0;31mKeyboardInterrupt\u001b[0m: "
          ]
        }
      ]
    },
    {
      "cell_type": "code",
      "source": [],
      "metadata": {
        "id": "HuhKmrO1xX6v"
      },
      "execution_count": null,
      "outputs": []
    }
  ],
  "metadata": {
    "colab": {
      "provenance": []
    },
    "kernelspec": {
      "display_name": "Python 3",
      "name": "python3"
    },
    "language_info": {
      "name": "python"
    }
  },
  "nbformat": 4,
  "nbformat_minor": 0
}